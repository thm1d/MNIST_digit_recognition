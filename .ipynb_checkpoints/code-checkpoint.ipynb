{
 "cells": [
  {
   "cell_type": "code",
   "execution_count": 1,
   "id": "9a3292b0",
   "metadata": {},
   "outputs": [],
   "source": [
    "# importing the dependencies\n",
    "import numpy as np\n",
    "import matplotlib.pyplot as plt\n",
    "import seaborn as sns\n",
    "import cv2\n",
    "from PIL import Image\n",
    "import tensorflow as tf\n",
    "tf.random.set_seed(3)\n",
    "from tensorflow import keras\n",
    "from keras.datasets import mnist\n",
    "from tensorflow.math import confusion_matrix\n",
    "from tensorflow.keras.models import load_model"
   ]
  },
  {
   "cell_type": "code",
   "execution_count": 2,
   "id": "133d5b15",
   "metadata": {},
   "outputs": [],
   "source": [
    "# loading the MNIST data\n",
    "(X_train, y_train), (X_test, y_test) = mnist.load_data()"
   ]
  },
  {
   "cell_type": "code",
   "execution_count": 3,
   "id": "348fa0d2",
   "metadata": {},
   "outputs": [
    {
     "name": "stdout",
     "output_type": "stream",
     "text": [
      "(60000, 28, 28) (60000,) (10000, 28, 28) (10000,)\n"
     ]
    }
   ],
   "source": [
    "print(X_train.shape, y_train.shape, X_test.shape, y_test.shape)"
   ]
  },
  {
   "cell_type": "code",
   "execution_count": 4,
   "id": "959edc56",
   "metadata": {},
   "outputs": [
    {
     "name": "stdout",
     "output_type": "stream",
     "text": [
      "[[  0   0   0   0   0   0   0   0   0   0   0   0   0   0   0   0   0   0\n",
      "    0   0   0   0   0   0   0   0   0   0]\n",
      " [  0   0   0   0   0   0   0   0   0   0   0   0   0   0   0   0   0   0\n",
      "    0   0   0   0   0   0   0   0   0   0]\n",
      " [  0   0   0   0   0   0   0   0   0   0   0   0   0   0   0   0   0   0\n",
      "    0   0   0   0   0   0   0   0   0   0]\n",
      " [  0   0   0   0   0   0   0   0   0   0   0   0   0   0   0   0   0   0\n",
      "    0   0   0   0   0   0   0   0   0   0]\n",
      " [  0   0   0   0   0   0   0   0   0   0   0  42 118 219 166 118 118   6\n",
      "    0   0   0   0   0   0   0   0   0   0]\n",
      " [  0   0   0   0   0   0   0   0   0   0 103 242 254 254 254 254 254  66\n",
      "    0   0   0   0   0   0   0   0   0   0]\n",
      " [  0   0   0   0   0   0   0   0   0   0  18 232 254 254 254 254 254 238\n",
      "   70   0   0   0   0   0   0   0   0   0]\n",
      " [  0   0   0   0   0   0   0   0   0   0   0 104 244 254 224 254 254 254\n",
      "  141   0   0   0   0   0   0   0   0   0]\n",
      " [  0   0   0   0   0   0   0   0   0   0   0   0 207 254 210 254 254 254\n",
      "   34   0   0   0   0   0   0   0   0   0]\n",
      " [  0   0   0   0   0   0   0   0   0   0   0   0  84 206 254 254 254 254\n",
      "   41   0   0   0   0   0   0   0   0   0]\n",
      " [  0   0   0   0   0   0   0   0   0   0   0   0   0  24 209 254 254 254\n",
      "  171   0   0   0   0   0   0   0   0   0]\n",
      " [  0   0   0   0   0   0   0   0   0   0   0   0  91 137 253 254 254 254\n",
      "  112   0   0   0   0   0   0   0   0   0]\n",
      " [  0   0   0   0   0   0   0   0   0   0  40 214 250 254 254 254 254 254\n",
      "   34   0   0   0   0   0   0   0   0   0]\n",
      " [  0   0   0   0   0   0   0   0   0   0  81 247 254 254 254 254 254 254\n",
      "  146   0   0   0   0   0   0   0   0   0]\n",
      " [  0   0   0   0   0   0   0   0   0   0   0 110 246 254 254 254 254 254\n",
      "  171   0   0   0   0   0   0   0   0   0]\n",
      " [  0   0   0   0   0   0   0   0   0   0   0   0  73  89  89  93 240 254\n",
      "  171   0   0   0   0   0   0   0   0   0]\n",
      " [  0   0   0   0   0   0   0   0   0   0   0   0   0   0   0   1 128 254\n",
      "  219  31   0   0   0   0   0   0   0   0]\n",
      " [  0   0   0   0   0   0   0   0   0   0   0   0   0   0   0   7 254 254\n",
      "  214  28   0   0   0   0   0   0   0   0]\n",
      " [  0   0   0   0   0   0   0   0   0   0   0   0   0   0   0 138 254 254\n",
      "  116   0   0   0   0   0   0   0   0   0]\n",
      " [  0   0   0   0   0   0  19 177  90   0   0   0   0   0  25 240 254 254\n",
      "   34   0   0   0   0   0   0   0   0   0]\n",
      " [  0   0   0   0   0   0 164 254 215  63  36   0  51  89 206 254 254 139\n",
      "    8   0   0   0   0   0   0   0   0   0]\n",
      " [  0   0   0   0   0   0  57 197 254 254 222 180 241 254 254 253 213  11\n",
      "    0   0   0   0   0   0   0   0   0   0]\n",
      " [  0   0   0   0   0   0   0 140 105 254 254 254 254 254 254 236   0   0\n",
      "    0   0   0   0   0   0   0   0   0   0]\n",
      " [  0   0   0   0   0   0   0   0   7 117 117 165 254 254 239  50   0   0\n",
      "    0   0   0   0   0   0   0   0   0   0]\n",
      " [  0   0   0   0   0   0   0   0   0   0   0   0   0   0   0   0   0   0\n",
      "    0   0   0   0   0   0   0   0   0   0]\n",
      " [  0   0   0   0   0   0   0   0   0   0   0   0   0   0   0   0   0   0\n",
      "    0   0   0   0   0   0   0   0   0   0]\n",
      " [  0   0   0   0   0   0   0   0   0   0   0   0   0   0   0   0   0   0\n",
      "    0   0   0   0   0   0   0   0   0   0]\n",
      " [  0   0   0   0   0   0   0   0   0   0   0   0   0   0   0   0   0   0\n",
      "    0   0   0   0   0   0   0   0   0   0]]\n"
     ]
    }
   ],
   "source": [
    "print(X_train[10])"
   ]
  },
  {
   "cell_type": "code",
   "execution_count": 5,
   "id": "c0e217bb",
   "metadata": {},
   "outputs": [
    {
     "data": {
      "image/png": "[encoded data removed]",
      "text/plain": [
       "<Figure size 432x288 with 1 Axes>"
      ]
     },
     "metadata": {
      "needs_background": "light"
     },
     "output_type": "display_data"
    },
    {
     "name": "stdout",
     "output_type": "stream",
     "text": [
      "4\n"
     ]
    }
   ],
   "source": [
    "# showing a single image\n",
    "plt.imshow(X_train[150])\n",
    "plt.show()\n",
    "\n",
    "# corresponding label\n",
    "print(y_train[150])"
   ]
  },
  {
   "cell_type": "code",
   "execution_count": 6,
   "id": "c79b429d",
   "metadata": {},
   "outputs": [
    {
     "name": "stdout",
     "output_type": "stream",
     "text": [
      "[0 1 2 3 4 5 6 7 8 9]\n",
      "[0 1 2 3 4 5 6 7 8 9]\n"
     ]
    }
   ],
   "source": [
    "print(np.unique(y_train))\n",
    "print(np.unique(y_test))"
   ]
  },
  {
   "cell_type": "code",
   "execution_count": 7,
   "id": "32ce7096",
   "metadata": {},
   "outputs": [],
   "source": [
    "# scaling the values (normalization)\n",
    "X_train = X_train / 255\n",
    "X_test = X_test / 255"
   ]
  },
  {
   "cell_type": "code",
   "execution_count": 8,
   "id": "c584c570",
   "metadata": {},
   "outputs": [
    {
     "name": "stdout",
     "output_type": "stream",
     "text": [
      "[[0.         0.         0.         0.         0.         0.\n",
      "  0.         0.         0.         0.         0.         0.\n",
      "  0.         0.         0.         0.         0.         0.\n",
      "  0.         0.         0.         0.         0.         0.\n",
      "  0.         0.         0.         0.        ]\n",
      " [0.         0.         0.         0.         0.         0.\n",
      "  0.         0.         0.         0.         0.         0.\n",
      "  0.         0.         0.         0.         0.         0.\n",
      "  0.         0.         0.         0.         0.         0.\n",
      "  0.         0.         0.         0.        ]\n",
      " [0.         0.         0.         0.         0.         0.\n",
      "  0.         0.         0.         0.         0.         0.\n",
      "  0.         0.         0.         0.         0.         0.\n",
      "  0.         0.         0.         0.         0.         0.\n",
      "  0.         0.         0.         0.        ]\n",
      " [0.         0.         0.         0.         0.         0.\n",
      "  0.         0.         0.         0.         0.         0.\n",
      "  0.         0.         0.         0.         0.         0.\n",
      "  0.         0.         0.         0.         0.         0.\n",
      "  0.         0.         0.         0.        ]\n",
      " [0.         0.         0.         0.         0.         0.\n",
      "  0.         0.         0.         0.         0.         0.16470588\n",
      "  0.4627451  0.85882353 0.65098039 0.4627451  0.4627451  0.02352941\n",
      "  0.         0.         0.         0.         0.         0.\n",
      "  0.         0.         0.         0.        ]\n",
      " [0.         0.         0.         0.         0.         0.\n",
      "  0.         0.         0.         0.         0.40392157 0.94901961\n",
      "  0.99607843 0.99607843 0.99607843 0.99607843 0.99607843 0.25882353\n",
      "  0.         0.         0.         0.         0.         0.\n",
      "  0.         0.         0.         0.        ]\n",
      " [0.         0.         0.         0.         0.         0.\n",
      "  0.         0.         0.         0.         0.07058824 0.90980392\n",
      "  0.99607843 0.99607843 0.99607843 0.99607843 0.99607843 0.93333333\n",
      "  0.2745098  0.         0.         0.         0.         0.\n",
      "  0.         0.         0.         0.        ]\n",
      " [0.         0.         0.         0.         0.         0.\n",
      "  0.         0.         0.         0.         0.         0.40784314\n",
      "  0.95686275 0.99607843 0.87843137 0.99607843 0.99607843 0.99607843\n",
      "  0.55294118 0.         0.         0.         0.         0.\n",
      "  0.         0.         0.         0.        ]\n",
      " [0.         0.         0.         0.         0.         0.\n",
      "  0.         0.         0.         0.         0.         0.\n",
      "  0.81176471 0.99607843 0.82352941 0.99607843 0.99607843 0.99607843\n",
      "  0.13333333 0.         0.         0.         0.         0.\n",
      "  0.         0.         0.         0.        ]\n",
      " [0.         0.         0.         0.         0.         0.\n",
      "  0.         0.         0.         0.         0.         0.\n",
      "  0.32941176 0.80784314 0.99607843 0.99607843 0.99607843 0.99607843\n",
      "  0.16078431 0.         0.         0.         0.         0.\n",
      "  0.         0.         0.         0.        ]\n",
      " [0.         0.         0.         0.         0.         0.\n",
      "  0.         0.         0.         0.         0.         0.\n",
      "  0.         0.09411765 0.81960784 0.99607843 0.99607843 0.99607843\n",
      "  0.67058824 0.         0.         0.         0.         0.\n",
      "  0.         0.         0.         0.        ]\n",
      " [0.         0.         0.         0.         0.         0.\n",
      "  0.         0.         0.         0.         0.         0.\n",
      "  0.35686275 0.5372549  0.99215686 0.99607843 0.99607843 0.99607843\n",
      "  0.43921569 0.         0.         0.         0.         0.\n",
      "  0.         0.         0.         0.        ]\n",
      " [0.         0.         0.         0.         0.         0.\n",
      "  0.         0.         0.         0.         0.15686275 0.83921569\n",
      "  0.98039216 0.99607843 0.99607843 0.99607843 0.99607843 0.99607843\n",
      "  0.13333333 0.         0.         0.         0.         0.\n",
      "  0.         0.         0.         0.        ]\n",
      " [0.         0.         0.         0.         0.         0.\n",
      "  0.         0.         0.         0.         0.31764706 0.96862745\n",
      "  0.99607843 0.99607843 0.99607843 0.99607843 0.99607843 0.99607843\n",
      "  0.57254902 0.         0.         0.         0.         0.\n",
      "  0.         0.         0.         0.        ]\n",
      " [0.         0.         0.         0.         0.         0.\n",
      "  0.         0.         0.         0.         0.         0.43137255\n",
      "  0.96470588 0.99607843 0.99607843 0.99607843 0.99607843 0.99607843\n",
      "  0.67058824 0.         0.         0.         0.         0.\n",
      "  0.         0.         0.         0.        ]\n",
      " [0.         0.         0.         0.         0.         0.\n",
      "  0.         0.         0.         0.         0.         0.\n",
      "  0.28627451 0.34901961 0.34901961 0.36470588 0.94117647 0.99607843\n",
      "  0.67058824 0.         0.         0.         0.         0.\n",
      "  0.         0.         0.         0.        ]\n",
      " [0.         0.         0.         0.         0.         0.\n",
      "  0.         0.         0.         0.         0.         0.\n",
      "  0.         0.         0.         0.00392157 0.50196078 0.99607843\n",
      "  0.85882353 0.12156863 0.         0.         0.         0.\n",
      "  0.         0.         0.         0.        ]\n",
      " [0.         0.         0.         0.         0.         0.\n",
      "  0.         0.         0.         0.         0.         0.\n",
      "  0.         0.         0.         0.02745098 0.99607843 0.99607843\n",
      "  0.83921569 0.10980392 0.         0.         0.         0.\n",
      "  0.         0.         0.         0.        ]\n",
      " [0.         0.         0.         0.         0.         0.\n",
      "  0.         0.         0.         0.         0.         0.\n",
      "  0.         0.         0.         0.54117647 0.99607843 0.99607843\n",
      "  0.45490196 0.         0.         0.         0.         0.\n",
      "  0.         0.         0.         0.        ]\n",
      " [0.         0.         0.         0.         0.         0.\n",
      "  0.0745098  0.69411765 0.35294118 0.         0.         0.\n",
      "  0.         0.         0.09803922 0.94117647 0.99607843 0.99607843\n",
      "  0.13333333 0.         0.         0.         0.         0.\n",
      "  0.         0.         0.         0.        ]\n",
      " [0.         0.         0.         0.         0.         0.\n",
      "  0.64313725 0.99607843 0.84313725 0.24705882 0.14117647 0.\n",
      "  0.2        0.34901961 0.80784314 0.99607843 0.99607843 0.54509804\n",
      "  0.03137255 0.         0.         0.         0.         0.\n",
      "  0.         0.         0.         0.        ]\n",
      " [0.         0.         0.         0.         0.         0.\n",
      "  0.22352941 0.77254902 0.99607843 0.99607843 0.87058824 0.70588235\n",
      "  0.94509804 0.99607843 0.99607843 0.99215686 0.83529412 0.04313725\n",
      "  0.         0.         0.         0.         0.         0.\n",
      "  0.         0.         0.         0.        ]\n",
      " [0.         0.         0.         0.         0.         0.\n",
      "  0.         0.54901961 0.41176471 0.99607843 0.99607843 0.99607843\n",
      "  0.99607843 0.99607843 0.99607843 0.9254902  0.         0.\n",
      "  0.         0.         0.         0.         0.         0.\n",
      "  0.         0.         0.         0.        ]\n",
      " [0.         0.         0.         0.         0.         0.\n",
      "  0.         0.         0.02745098 0.45882353 0.45882353 0.64705882\n",
      "  0.99607843 0.99607843 0.9372549  0.19607843 0.         0.\n",
      "  0.         0.         0.         0.         0.         0.\n",
      "  0.         0.         0.         0.        ]\n",
      " [0.         0.         0.         0.         0.         0.\n",
      "  0.         0.         0.         0.         0.         0.\n",
      "  0.         0.         0.         0.         0.         0.\n",
      "  0.         0.         0.         0.         0.         0.\n",
      "  0.         0.         0.         0.        ]\n",
      " [0.         0.         0.         0.         0.         0.\n",
      "  0.         0.         0.         0.         0.         0.\n",
      "  0.         0.         0.         0.         0.         0.\n",
      "  0.         0.         0.         0.         0.         0.\n",
      "  0.         0.         0.         0.        ]\n",
      " [0.         0.         0.         0.         0.         0.\n",
      "  0.         0.         0.         0.         0.         0.\n",
      "  0.         0.         0.         0.         0.         0.\n",
      "  0.         0.         0.         0.         0.         0.\n",
      "  0.         0.         0.         0.        ]\n",
      " [0.         0.         0.         0.         0.         0.\n",
      "  0.         0.         0.         0.         0.         0.\n",
      "  0.         0.         0.         0.         0.         0.\n",
      "  0.         0.         0.         0.         0.         0.\n",
      "  0.         0.         0.         0.        ]]\n"
     ]
    }
   ],
   "source": [
    "print(X_train[10])"
   ]
  },
  {
   "cell_type": "code",
   "execution_count": 58,
   "id": "1de18e40",
   "metadata": {},
   "outputs": [],
   "source": [
    "# Building Neural Network\n",
    "model = keras.Sequential([\n",
    "    keras.layers.Flatten(input_shape=(28, 28)),\n",
    "    keras.layers.Dense(50, activation='relu'),\n",
    "    keras.layers.Dense(50, activation='relu'),\n",
    "    keras.layers.Dense(10, activation='sigmoid'),\n",
    "])\n"
   ]
  },
  {
   "cell_type": "code",
   "execution_count": 59,
   "id": "17cee859",
   "metadata": {},
   "outputs": [],
   "source": [
    "model.compile(optimizer='adam', \n",
    "              loss='sparse_categorical_crossentropy', \n",
    "              metrics=['accuracy']\n",
    ")"
   ]
  },
  {
   "cell_type": "code",
   "execution_count": 60,
   "id": "06f05e9a",
   "metadata": {},
   "outputs": [
    {
     "name": "stdout",
     "output_type": "stream",
     "text": [
      "Epoch 1/40\n",
      "1875/1875 [==============================] - 6s 3ms/step - loss: 0.2892 - accuracy: 0.9166\n",
      "Epoch 2/40\n",
      "1875/1875 [==============================] - 4s 2ms/step - loss: 0.1291 - accuracy: 0.9614\n",
      "Epoch 3/40\n",
      "1875/1875 [==============================] - 10s 5ms/step - loss: 0.0949 - accuracy: 0.9716\n",
      "Epoch 4/40\n",
      "1875/1875 [==============================] - 12s 6ms/step - loss: 0.0769 - accuracy: 0.9760\n",
      "Epoch 5/40\n",
      "1875/1875 [==============================] - 10s 5ms/step - loss: 0.0634 - accuracy: 0.9802\n",
      "Epoch 6/40\n",
      "1875/1875 [==============================] - 15s 8ms/step - loss: 0.0552 - accuracy: 0.9826\n",
      "Epoch 7/40\n",
      "1875/1875 [==============================] - 10s 5ms/step - loss: 0.0483 - accuracy: 0.9845\n",
      "Epoch 8/40\n",
      "1875/1875 [==============================] - 8s 4ms/step - loss: 0.0422 - accuracy: 0.9862\n",
      "Epoch 9/40\n",
      "1875/1875 [==============================] - 15s 8ms/step - loss: 0.0374 - accuracy: 0.9877\n",
      "Epoch 10/40\n",
      "1875/1875 [==============================] - 12s 7ms/step - loss: 0.0327 - accuracy: 0.9890\n",
      "Epoch 11/40\n",
      "1875/1875 [==============================] - 8s 4ms/step - loss: 0.0301 - accuracy: 0.9900\n",
      "Epoch 12/40\n",
      "1875/1875 [==============================] - 12s 6ms/step - loss: 0.0256 - accuracy: 0.9915\n",
      "Epoch 13/40\n",
      "1875/1875 [==============================] - 8s 4ms/step - loss: 0.0248 - accuracy: 0.9917\n",
      "Epoch 14/40\n",
      "1875/1875 [==============================] - 8s 4ms/step - loss: 0.0225 - accuracy: 0.9924\n",
      "Epoch 15/40\n",
      "1875/1875 [==============================] - 13s 7ms/step - loss: 0.0181 - accuracy: 0.9941\n",
      "Epoch 16/40\n",
      "1875/1875 [==============================] - 11s 6ms/step - loss: 0.0202 - accuracy: 0.9930\n",
      "Epoch 17/40\n",
      "1875/1875 [==============================] - 6s 3ms/step - loss: 0.0183 - accuracy: 0.9939\n",
      "Epoch 18/40\n",
      "1875/1875 [==============================] - 4s 2ms/step - loss: 0.0162 - accuracy: 0.9946\n",
      "Epoch 19/40\n",
      "1875/1875 [==============================] - 6s 3ms/step - loss: 0.0167 - accuracy: 0.9944\n",
      "Epoch 20/40\n",
      "1875/1875 [==============================] - 11s 6ms/step - loss: 0.0142 - accuracy: 0.9952\n",
      "Epoch 21/40\n",
      "1875/1875 [==============================] - 8s 4ms/step - loss: 0.0153 - accuracy: 0.9947\n",
      "Epoch 22/40\n",
      "1875/1875 [==============================] - 4s 2ms/step - loss: 0.0141 - accuracy: 0.9952\n",
      "Epoch 23/40\n",
      "1875/1875 [==============================] - 4s 2ms/step - loss: 0.0130 - accuracy: 0.9956\n",
      "Epoch 24/40\n",
      "1875/1875 [==============================] - 8s 4ms/step - loss: 0.0123 - accuracy: 0.9959\n",
      "Epoch 25/40\n",
      "1875/1875 [==============================] - 4s 2ms/step - loss: 0.0129 - accuracy: 0.9958\n",
      "Epoch 26/40\n",
      "1875/1875 [==============================] - 5s 2ms/step - loss: 0.0127 - accuracy: 0.9958\n",
      "Epoch 27/40\n",
      "1875/1875 [==============================] - 4s 2ms/step - loss: 0.0116 - accuracy: 0.9960\n",
      "Epoch 28/40\n",
      "1875/1875 [==============================] - 4s 2ms/step - loss: 0.0109 - accuracy: 0.9961\n",
      "Epoch 29/40\n",
      "1875/1875 [==============================] - 3s 2ms/step - loss: 0.0087 - accuracy: 0.9972\n",
      "Epoch 30/40\n",
      "1875/1875 [==============================] - 4s 2ms/step - loss: 0.0137 - accuracy: 0.9956\n",
      "Epoch 31/40\n",
      "1875/1875 [==============================] - 3s 2ms/step - loss: 0.0094 - accuracy: 0.9966\n",
      "Epoch 32/40\n",
      "1875/1875 [==============================] - 4s 2ms/step - loss: 0.0115 - accuracy: 0.9963\n",
      "Epoch 33/40\n",
      "1875/1875 [==============================] - 8s 4ms/step - loss: 0.0096 - accuracy: 0.9970\n",
      "Epoch 34/40\n",
      "1875/1875 [==============================] - 4s 2ms/step - loss: 0.0101 - accuracy: 0.9968\n",
      "Epoch 35/40\n",
      "1875/1875 [==============================] - 4s 2ms/step - loss: 0.0105 - accuracy: 0.9967\n",
      "Epoch 36/40\n",
      "1875/1875 [==============================] - 4s 2ms/step - loss: 0.0096 - accuracy: 0.9967\n",
      "Epoch 37/40\n",
      "1875/1875 [==============================] - 3s 2ms/step - loss: 0.0090 - accuracy: 0.9972\n",
      "Epoch 38/40\n",
      "1875/1875 [==============================] - 3s 2ms/step - loss: 0.0091 - accuracy: 0.9970\n",
      "Epoch 39/40\n",
      "1875/1875 [==============================] - 3s 2ms/step - loss: 0.0101 - accuracy: 0.9967\n",
      "Epoch 40/40\n",
      "1875/1875 [==============================] - 3s 2ms/step - loss: 0.0077 - accuracy: 0.9976\n"
     ]
    },
    {
     "data": {
      "text/plain": [
       "<keras.callbacks.History at 0x15f16307e20>"
      ]
     },
     "execution_count": 60,
     "metadata": {},
     "output_type": "execute_result"
    }
   ],
   "source": [
    "#training the neural network\n",
    "model.fit(X_train, y_train, epochs=40)"
   ]
  },
  {
   "cell_type": "code",
   "execution_count": 61,
   "id": "c9556710",
   "metadata": {},
   "outputs": [],
   "source": [
    "model.save('model_40.h5')"
   ]
  },
  {
   "cell_type": "code",
   "execution_count": 62,
   "id": "967ffe3e",
   "metadata": {},
   "outputs": [],
   "source": [
    "model = load_model('model_40.h5')"
   ]
  },
  {
   "cell_type": "code",
   "execution_count": 63,
   "id": "22b845f1",
   "metadata": {},
   "outputs": [
    {
     "name": "stdout",
     "output_type": "stream",
     "text": [
      "313/313 [==============================] - 1s 2ms/step - loss: 0.1955 - accuracy: 0.9746\n"
     ]
    }
   ],
   "source": [
    "loss, accuracy = model.evaluate(X_test, y_test)"
   ]
  },
  {
   "cell_type": "code",
   "execution_count": 64,
   "id": "cfa41ac9",
   "metadata": {},
   "outputs": [
    {
     "name": "stdout",
     "output_type": "stream",
     "text": [
      "0.9746000170707703\n"
     ]
    }
   ],
   "source": [
    "\n",
    "print(accuracy)"
   ]
  },
  {
   "cell_type": "markdown",
   "id": "5df7cd29",
   "metadata": {},
   "source": [
    "Accuracy: 97.46%"
   ]
  },
  {
   "cell_type": "code",
   "execution_count": 65,
   "id": "d56f3830",
   "metadata": {},
   "outputs": [
    {
     "data": {
      "image/png": "[encoded data removed]",
      "text/plain": [
       "<Figure size 432x288 with 1 Axes>"
      ]
     },
     "metadata": {
      "needs_background": "light"
     },
     "output_type": "display_data"
    }
   ],
   "source": [
    "plt.imshow(X_test[0])\n",
    "plt.show()"
   ]
  },
  {
   "cell_type": "code",
   "execution_count": 66,
   "id": "9f63d1c5",
   "metadata": {},
   "outputs": [
    {
     "name": "stdout",
     "output_type": "stream",
     "text": [
      "7\n"
     ]
    }
   ],
   "source": [
    "print(y_test[0])"
   ]
  },
  {
   "cell_type": "code",
   "execution_count": 67,
   "id": "ba6a54e9",
   "metadata": {},
   "outputs": [
    {
     "name": "stdout",
     "output_type": "stream",
     "text": [
      "313/313 [==============================] - 1s 2ms/step\n"
     ]
    }
   ],
   "source": [
    "# Making prediction on X_test\n",
    "y_pred = model.predict(X_test)"
   ]
  },
  {
   "cell_type": "code",
   "execution_count": 68,
   "id": "8ebcee74",
   "metadata": {},
   "outputs": [
    {
     "name": "stdout",
     "output_type": "stream",
     "text": [
      "[3.0598336e-11 2.7742200e-07 1.5413732e-05 8.4424210e-01 4.9555546e-16\n",
      " 2.2058364e-12 2.1596200e-29 1.0000000e+00 1.6973040e-08 1.8720642e-01]\n"
     ]
    }
   ],
   "source": [
    "print(y_pred[0])"
   ]
  },
  {
   "cell_type": "code",
   "execution_count": 69,
   "id": "6b8c55ed",
   "metadata": {},
   "outputs": [
    {
     "name": "stdout",
     "output_type": "stream",
     "text": [
      "7\n"
     ]
    }
   ],
   "source": [
    "# Converting the prediction probabilities to class label\n",
    "label_for_first_test_image = np.argmax(y_pred[0])\n",
    "print(label_for_first_test_image)"
   ]
  },
  {
   "cell_type": "code",
   "execution_count": 85,
   "id": "0b3a4ef7",
   "metadata": {},
   "outputs": [],
   "source": [
    "# Converting the prediction probabilities to class label for all test cases\n",
    "y_pred_labels = [np.argmax(i) for i in  y_pred]\n",
    "#print(y_pred_labels)"
   ]
  },
  {
   "cell_type": "markdown",
   "id": "16e6cd8f",
   "metadata": {},
   "source": [
    "y_test --> True Labels\n",
    "y_pred_labels --> Predicted Labels"
   ]
  },
  {
   "cell_type": "code",
   "execution_count": 71,
   "id": "dbdca952",
   "metadata": {},
   "outputs": [
    {
     "name": "stdout",
     "output_type": "stream",
     "text": [
      "tf.Tensor(\n",
      "[[ 962    1    1    2    1    3    3    1    1    5]\n",
      " [   0 1122    2    2    0    1    3    2    3    0]\n",
      " [   5    6  999    3    4    0    3    8    2    2]\n",
      " [   0    0    4  988    0    3    0    6    6    3]\n",
      " [   0    0    5    0  957    0    3    4    1   12]\n",
      " [   2    0    0   35    2  847    2    0    3    1]\n",
      " [   4    1    0    0    9   11  931    0    2    0]\n",
      " [   1    3   11    2    2    0    0 1000    0    9]\n",
      " [   3    1    3   10    7    9    1    4  930    6]\n",
      " [   1    3    0    6   13    4    0    4    1  977]], shape=(10, 10), dtype=int32)\n"
     ]
    }
   ],
   "source": [
    "# Building Confusion Matrix\n",
    "conf_mat = confusion_matrix(y_test, y_pred_labels)\n",
    "print(conf_mat)"
   ]
  },
  {
   "cell_type": "code",
   "execution_count": 72,
   "id": "136e3c6c",
   "metadata": {},
   "outputs": [
    {
     "data": {
      "text/plain": [
       "Text(0.5, 42.0, 'predicted Labels')"
      ]
     },
     "execution_count": 72,
     "metadata": {},
     "output_type": "execute_result"
    },
    {
     "data": {
      "image/png": "[encoded data removed]",
      "text/plain": [
       "<Figure size 1080x504 with 2 Axes>"
      ]
     },
     "metadata": {
      "needs_background": "light"
     },
     "output_type": "display_data"
    }
   ],
   "source": [
    "# Ploting Confusion Matrix\n",
    "plt.figure(figsize=(15, 7))\n",
    "sns.heatmap(conf_mat, annot=True, fmt='d', cmap='Blues')\n",
    "plt.ylabel('True Labels')\n",
    "plt.xlabel(\"predicted Labels\")"
   ]
  },
  {
   "cell_type": "code",
   "execution_count": 73,
   "id": "50059316",
   "metadata": {},
   "outputs": [],
   "source": [
    "# Building a predictive system\n",
    "input_image_path = 'MNIST_digit.png'\n",
    "\n",
    "input_image = cv2.imread(input_image_path, 0)\n",
    "type(input_image)\n",
    "cv2.imshow('test image', input_image)\n",
    "cv2.waitKey(0) \n",
    "cv2.destroyAllWindows() "
   ]
  },
  {
   "cell_type": "code",
   "execution_count": 74,
   "id": "a2d95c4b",
   "metadata": {},
   "outputs": [
    {
     "data": {
      "text/plain": [
       "(318, 318)"
      ]
     },
     "execution_count": 74,
     "metadata": {},
     "output_type": "execute_result"
    }
   ],
   "source": [
    "input_image.shape"
   ]
  },
  {
   "cell_type": "code",
   "execution_count": 75,
   "id": "42d7a863",
   "metadata": {},
   "outputs": [],
   "source": [
    "input_image_resized = cv2.resize(input_image, (28,28))"
   ]
  },
  {
   "cell_type": "code",
   "execution_count": 76,
   "id": "06ee71a4",
   "metadata": {},
   "outputs": [],
   "source": [
    "input_image_resized = input_image_resized / 255"
   ]
  },
  {
   "cell_type": "code",
   "execution_count": 77,
   "id": "02461b57",
   "metadata": {},
   "outputs": [],
   "source": [
    "input_image_reshaped = np.reshape(input_image_resized, [1, 28, 28]) # single test data"
   ]
  },
  {
   "cell_type": "code",
   "execution_count": 78,
   "id": "3c70e11a",
   "metadata": {},
   "outputs": [
    {
     "name": "stdout",
     "output_type": "stream",
     "text": [
      "1/1 [==============================] - 0s 28ms/step\n"
     ]
    }
   ],
   "source": [
    "input_prediction = model.predict(input_image_reshaped)"
   ]
  },
  {
   "cell_type": "code",
   "execution_count": 79,
   "id": "c6c58f43",
   "metadata": {},
   "outputs": [
    {
     "name": "stdout",
     "output_type": "stream",
     "text": [
      "3\n"
     ]
    }
   ],
   "source": [
    "print(np.argmax(input_prediction))"
   ]
  },
  {
   "cell_type": "code",
   "execution_count": 83,
   "id": "c9447370",
   "metadata": {},
   "outputs": [
    {
     "name": "stdout",
     "output_type": "stream",
     "text": [
      "Enter the path to image test_input_5.png\n"
     ]
    },
    {
     "data": {
      "image/png": "[encoded data removed]",
      "text/plain": [
       "<Figure size 432x288 with 1 Axes>"
      ]
     },
     "metadata": {
      "needs_background": "light"
     },
     "output_type": "display_data"
    },
    {
     "name": "stdout",
     "output_type": "stream",
     "text": [
      "1/1 [==============================] - 0s 21ms/step\n",
      "The Handwritten Digit is recognized as :  5\n"
     ]
    }
   ],
   "source": [
    "# The Predictive Ststem\n",
    "\n",
    "# image acquisition\n",
    "input_image_path = input('Enter the path to image ') # test_input.png\n",
    "\n",
    "input_image = cv2.imread(input_image_path, 0)\n",
    "plt.imshow(cv2.cvtColor(input_image, cv2.COLOR_BGR2RGB))\n",
    "plt.show()\n",
    "\n",
    "\n",
    "# preprocessing\n",
    "input_image_resized = cv2.resize(input_image, (28,28))\n",
    "input_image_resized = input_image_resized / 255 \n",
    "input_image_reshaped = np.reshape(input_image_resized, [1, 28, 28]) \n",
    "\n",
    "# prediction\n",
    "input_prediction = model.predict(input_image_reshaped)\n",
    "print('The Handwritten Digit is recognized as : ', np.argmax(input_prediction))"
   ]
  },
  {
   "cell_type": "code",
   "execution_count": null,
   "id": "61666735",
   "metadata": {},
   "outputs": [],
   "source": []
  }
 ],
 "metadata": {
  "kernelspec": {
   "display_name": "Python 3 (ipykernel)",
   "language": "python",
   "name": "python3"
  },
  "language_info": {
   "codemirror_mode": {
    "name": "ipython",
    "version": 3
   },
   "file_extension": ".py",
   "mimetype": "text/x-python",
   "name": "python",
   "nbconvert_exporter": "python",
   "pygments_lexer": "ipython3",
   "version": "3.9.7"
  }
 },
 "nbformat": 4,
 "nbformat_minor": 5
}
