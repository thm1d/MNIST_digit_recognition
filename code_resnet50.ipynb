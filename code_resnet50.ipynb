{
 "cells": [
  {
   "cell_type": "code",
   "execution_count": 4,
   "id": "3dd5316e",
   "metadata": {},
   "outputs": [],
   "source": [
    "# importing the dependencies\n",
    "import numpy as np\n",
    "import matplotlib.pyplot as plt\n",
    "import seaborn as sns\n",
    "import cv2\n",
    "import os\n",
    "from tensorflow.keras.datasets import mnist\n",
    "from tensorflow.keras.applications.resnet50 import ResNet50\n",
    "from keras.preprocessing.image import ImageDataGenerator \n",
    "from keras import optimizers\n",
    "from keras.layers import Dense, Dropout, Flatten, Conv2D, MaxPool2D,GlobalAveragePooling2D\n",
    "from keras.callbacks import TensorBoard,ReduceLROnPlateau,ModelCheckpoint\n",
    "from keras.models import Sequential,Model,load_model\n",
    "from keras.optimizers import SGD, Adam"
   ]
  },
  {
   "cell_type": "code",
   "execution_count": 5,
   "id": "e8454bf4",
   "metadata": {},
   "outputs": [],
   "source": [
    "(X_train_orig, Y_train_orig), (X_test_orig, Y_test_orig) = mnist.load_data()"
   ]
  },
  {
   "cell_type": "code",
   "execution_count": 6,
   "id": "8aa8dfdf",
   "metadata": {},
   "outputs": [],
   "source": [
    "def convert_to_one_hot(Y, C):\n",
    "    Y = np.eye(C)[Y.reshape(-1)].T\n",
    "    return Y"
   ]
  },
  {
   "cell_type": "code",
   "execution_count": 7,
   "id": "9e0af6d3",
   "metadata": {},
   "outputs": [],
   "source": [
    "# Normalize image vectors\n",
    "X_train = X_train_orig/255.\n",
    "X_test = X_test_orig/255."
   ]
  },
  {
   "cell_type": "code",
   "execution_count": 8,
   "id": "d4107988",
   "metadata": {},
   "outputs": [
    {
     "name": "stdout",
     "output_type": "stream",
     "text": [
      "number of training examples = 60000\n",
      "number of test examples = 10000\n",
      "X_train shape: (60000, 28, 28)\n",
      "Y_train shape: (60000, 10)\n",
      "X_test shape: (10000, 28, 28)\n",
      "Y_test shape: (10000, 10)\n"
     ]
    }
   ],
   "source": [
    "# Convert training and test labels to one hot matrices\n",
    "Y_train = convert_to_one_hot(Y_train_orig, 10).T\n",
    "Y_test = convert_to_one_hot(Y_test_orig, 10).T\n",
    "\n",
    "print (\"number of training examples = \" + str(X_train.shape[0]))\n",
    "print (\"number of test examples = \" + str(X_test.shape[0]))\n",
    "print (\"X_train shape: \" + str(X_train.shape))\n",
    "print (\"Y_train shape: \" + str(Y_train.shape))\n",
    "print (\"X_test shape: \" + str(X_test.shape))\n",
    "print (\"Y_test shape: \" + str(Y_test.shape))"
   ]
  },
  {
   "cell_type": "code",
   "execution_count": 9,
   "id": "be2d8d69",
   "metadata": {},
   "outputs": [],
   "source": [
    "X_train_ck = X_train\n",
    "X1 = []\n",
    "for i in X_train_ck:\n",
    "    tmp = np.zeros((4,28))\n",
    "\n",
    "    i = np.vstack((i,tmp))\n",
    "\n",
    "    tmp = np.zeros((32,4))\n",
    "    i = np.hstack((i, tmp))\n",
    "    X1.append(i)\n",
    "    \n",
    "X_test_ck = X_test\n",
    "X2 = []\n",
    "for i in X_test_ck:\n",
    "    tmp = np.zeros((4,28))\n",
    "\n",
    "    i = np.vstack((i,tmp))\n",
    "\n",
    "    tmp = np.zeros((32,4))\n",
    "    i = np.hstack((i, tmp))\n",
    "    X2.append(i)"
   ]
  },
  {
   "cell_type": "code",
   "execution_count": 10,
   "id": "3820f56f",
   "metadata": {},
   "outputs": [
    {
     "data": {
      "text/plain": [
       "(10000, 32, 32)"
      ]
     },
     "execution_count": 10,
     "metadata": {},
     "output_type": "execute_result"
    }
   ],
   "source": [
    "X1 = np.array(X1)\n",
    "X2 = np.array(X2)\n",
    "X2.shape"
   ]
  },
  {
   "cell_type": "code",
   "execution_count": 11,
   "id": "c97d80d7",
   "metadata": {},
   "outputs": [],
   "source": [
    "img_height,img_width = 32,32\n",
    "num_classes = 10\n",
    "#If imagenet weights are being loaded, \n",
    "#input must have a static square shape (one of (128, 128), (160, 160), (192, 192), or (224, 224))\n",
    "base_model = ResNet50(weights= None, include_top=False, input_shape= (img_height,img_width,1))"
   ]
  },
  {
   "cell_type": "code",
   "execution_count": 12,
   "id": "e08eeec4",
   "metadata": {},
   "outputs": [],
   "source": [
    "x = base_model.output\n",
    "x = GlobalAveragePooling2D()(x)\n",
    "x = Dropout(0.7)(x)\n",
    "predictions = Dense(num_classes, activation= 'softmax')(x)\n",
    "model = Model(inputs = base_model.input, outputs = predictions)"
   ]
  },
  {
   "cell_type": "code",
   "execution_count": 13,
   "id": "b035a163",
   "metadata": {},
   "outputs": [],
   "source": [
    "# sgd = SGD(lr=lrate, momentum=0.9, decay=decay, nesterov=False)\n",
    "adam = Adam(learning_rate=0.0001)\n",
    "model.compile(optimizer= adam, loss='categorical_crossentropy', metrics=['accuracy'])"
   ]
  },
  {
   "cell_type": "code",
   "execution_count": null,
   "id": "53ceccfb",
   "metadata": {},
   "outputs": [],
   "source": [
    "model.fit(X1, Y_train, epochs = 25, batch_size=64)"
   ]
  },
  {
   "cell_type": "code",
   "execution_count": null,
   "id": "0f57251b",
   "metadata": {},
   "outputs": [],
   "source": [
    "model.save(\"resnet_04e.h5\")"
   ]
  },
  {
   "cell_type": "code",
   "execution_count": 14,
   "id": "fc1bae02",
   "metadata": {},
   "outputs": [],
   "source": [
    "res_model = load_model(\"resnet_04e.h5\")"
   ]
  },
  {
   "cell_type": "code",
   "execution_count": null,
   "id": "5b9ef221",
   "metadata": {},
   "outputs": [],
   "source": [
    "loss, accuracy = model.evaluate(X2, Y_test)\n",
    "\n",
    "print(accuracy)"
   ]
  },
  {
   "cell_type": "code",
   "execution_count": null,
   "id": "c6bd3f5b",
   "metadata": {},
   "outputs": [],
   "source": [
    "plt.imshow(X2[10])\n",
    "plt.show()\n",
    "\n",
    "print(np.argmax(Y_test[10]))"
   ]
  },
  {
   "cell_type": "code",
   "execution_count": null,
   "id": "9752c831",
   "metadata": {},
   "outputs": [],
   "source": [
    "# The Predictive Ststem\n",
    "\n",
    "# image acquisition\n",
    "input_image_path = input('Enter the path to image ') # test_input.png\n",
    "\n",
    "input_image = cv2.imread(input_image_path, 0)\n",
    "plt.imshow(cv2.cvtColor(input_image, cv2.COLOR_BGR2RGB))\n",
    "plt.show()\n",
    "\n",
    "\n",
    "# preprocessing\n",
    "input_image_resized = cv2.resize(input_image, (32,32))\n",
    "input_image_resized = input_image_resized / 255 \n",
    "input_image_reshaped = np.reshape(input_image_resized, [1, 32, 32]) \n",
    "\n",
    "# prediction\n",
    "input_prediction = res_model.predict(input_image_reshaped)\n",
    "print('The Handwritten Digit is recognized as : ', np.argmax(input_prediction))"
   ]
  },
  {
   "cell_type": "code",
   "execution_count": null,
   "id": "394816e4",
   "metadata": {},
   "outputs": [],
   "source": [
    "model.summary()"
   ]
  },
  {
   "cell_type": "code",
   "execution_count": null,
   "id": "3a0f79ba",
   "metadata": {},
   "outputs": [],
   "source": []
  }
 ],
 "metadata": {
  "kernelspec": {
   "display_name": "Python 3 (ipykernel)",
   "language": "python",
   "name": "python3"
  },
  "language_info": {
   "codemirror_mode": {
    "name": "ipython",
    "version": 3
   },
   "file_extension": ".py",
   "mimetype": "text/x-python",
   "name": "python",
   "nbconvert_exporter": "python",
   "pygments_lexer": "ipython3",
   "version": "3.9.7"
  }
 },
 "nbformat": 4,
 "nbformat_minor": 5
}
